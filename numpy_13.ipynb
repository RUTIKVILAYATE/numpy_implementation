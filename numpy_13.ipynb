{
 "cells": [
  {
   "cell_type": "markdown",
   "metadata": {},
   "source": [
    "# NUMPY FUNCTIONS"
   ]
  },
  {
   "cell_type": "code",
   "execution_count": 10,
   "metadata": {},
   "outputs": [
    {
     "data": {
      "text/plain": [
       "0.8452476403657782"
      ]
     },
     "execution_count": 10,
     "metadata": {},
     "output_type": "execute_result"
    }
   ],
   "source": [
    "import numpy as np\n",
    "np.random.random()    # generate random no. between 0-1"
   ]
  },
  {
   "cell_type": "code",
   "execution_count": 28,
   "metadata": {},
   "outputs": [
    {
     "data": {
      "text/plain": [
       "0.771320643266746"
      ]
     },
     "execution_count": 28,
     "metadata": {},
     "output_type": "execute_result"
    }
   ],
   "source": [
    "# to generate a constant value again and again we can use the seed function and then random()\n",
    "\n",
    "np.random.seed(10)\n",
    "np.random.random()"
   ]
  },
  {
   "cell_type": "code",
   "execution_count": null,
   "metadata": {},
   "outputs": [
    {
     "data": {
      "text/plain": [
       "3.995190333210689"
      ]
     },
     "execution_count": 49,
     "metadata": {},
     "output_type": "execute_result"
    }
   ],
   "source": [
    "# generate a random value between 3 and 10 --> using uniform() \n",
    "np.random.uniform(3,10)"
   ]
  },
  {
   "cell_type": "code",
   "execution_count": 76,
   "metadata": {},
   "outputs": [
    {
     "data": {
      "text/plain": [
       "array([68.1119198 , 71.51409586, 85.75607508, 53.63880798, 45.94865637,\n",
       "       56.7135988 , 66.2435003 , 79.48972582, 89.55013681, 32.98320039])"
      ]
     },
     "execution_count": 76,
     "metadata": {},
     "output_type": "execute_result"
    }
   ],
   "source": [
    "# if want to  get 10 random value between 3 and  100 --> we can use 10 as the length in end of uniform as parameter\n",
    "np.random.uniform(3,100,10).reshape(2,5) # 10 values of 2d\n",
    "np.random.uniform(3,100,10)"
   ]
  },
  {
   "cell_type": "code",
   "execution_count": 119,
   "metadata": {},
   "outputs": [
    {
     "data": {
      "text/plain": [
       "array([[27, 24, 27, 25, 22],\n",
       "       [21, 23, 22, 29, 20],\n",
       "       [24, 27, 22, 28, 20]])"
      ]
     },
     "execution_count": 119,
     "metadata": {},
     "output_type": "execute_result"
    }
   ],
   "source": [
    "# To generate an integer value within an given range\n",
    "np.random.randint(20,30)\n",
    "np.random.randint(20,30,5)   # random values between 20-30 with length of array = 5\n",
    "np.random.randint(20,30,15).reshape(3,5) # random values between 20-30 with length = 15 and dimesion =3"
   ]
  },
  {
   "cell_type": "code",
   "execution_count": null,
   "metadata": {},
   "outputs": [
    {
     "data": {
      "text/plain": [
       "20"
      ]
     },
     "execution_count": 172,
     "metadata": {},
     "output_type": "execute_result"
    }
   ],
   "source": [
    "# maximum of array\n",
    "arr_0_1 = ([[27, 24, 27, 25, 22],\n",
    "       [21, 23, 22, 29, 20],\n",
    "       [24, 27, 22, 28, 20]])\n",
    "np.max(arr_0_1)         # max value \n",
    "np.min(arr_0_1)         # min value"
   ]
  },
  {
   "cell_type": "markdown",
   "metadata": {},
   "source": [
    "# argmax() and argmin() outputs the index of the max and min value of the array respectively"
   ]
  },
  {
   "cell_type": "code",
   "execution_count": null,
   "metadata": {},
   "outputs": [
    {
     "data": {
      "text/plain": [
       "8"
      ]
     },
     "execution_count": 176,
     "metadata": {},
     "output_type": "execute_result"
    }
   ],
   "source": [
    "# if want index of the maximum value --> use argmax()\n",
    "np.argmax(arr_0_1)   # 29 is the max. no. and 8 is the index of that max no. from the array"
   ]
  },
  {
   "cell_type": "code",
   "execution_count": null,
   "metadata": {},
   "outputs": [
    {
     "data": {
      "text/plain": [
       "50"
      ]
     },
     "execution_count": 193,
     "metadata": {},
     "output_type": "execute_result"
    }
   ],
   "source": [
    "\n",
    "# if pass argmax() in that array itself gives the max value as index is of max value of the array\n",
    "arr_10_20 = [10, 20, 30, 40, 50]\n",
    "arr_10_20[np.argmax(arr_10_20)]         "
   ]
  },
  {
   "cell_type": "code",
   "execution_count": null,
   "metadata": {},
   "outputs": [
    {
     "data": {
      "text/plain": [
       "array([ 0, -1,  2, -1,  4, -1,  6, -1,  8, -1])"
      ]
     },
     "execution_count": 235,
     "metadata": {},
     "output_type": "execute_result"
    }
   ],
   "source": [
    "random_arr = np.arange(0,10)\n",
    "random_arr\n",
    "random_arr[random_arr%2==1] = -1   # repalced all the odd values with -1\n",
    "random_arr"
   ]
  },
  {
   "cell_type": "code",
   "execution_count": 238,
   "metadata": {},
   "outputs": [
    {
     "data": {
      "text/plain": [
       "array([0, 1, 2, 3, 4, 5, 6, 7, 8, 9])"
      ]
     },
     "execution_count": 238,
     "metadata": {},
     "output_type": "execute_result"
    }
   ],
   "source": [
    "# if don't want to change the array itself after performing the operation\n",
    "\n",
    "# where(condition,True,False) --> syntax --> provide condition if it is True what would be the value if False what would be the value\n",
    "random_arr = np.arange(0,10)\n",
    "np.where(random_arr%2,-1,random_arr)   # array where condition is true replaced with -1 and where is False replaced with the same no\n",
    "\n",
    "random_arr   # this operation cannot change the original array\n"
   ]
  },
  {
   "cell_type": "code",
   "execution_count": 256,
   "metadata": {},
   "outputs": [
    {
     "data": {
      "text/plain": [
       "98.01"
      ]
     },
     "execution_count": 256,
     "metadata": {},
     "output_type": "execute_result"
    }
   ],
   "source": [
    "# Percentile --> percentile(array_name,percentile_value)\n",
    "random_arr = np.arange(0,100)\n",
    "np.percentile(random_arr,99)  # output value less than 25 percentile\n",
    "\n"
   ]
  },
  {
   "cell_type": "markdown",
   "metadata": {},
   "source": []
  }
 ],
 "metadata": {
  "kernelspec": {
   "display_name": "Python 3",
   "language": "python",
   "name": "python3"
  },
  "language_info": {
   "codemirror_mode": {
    "name": "ipython",
    "version": 3
   },
   "file_extension": ".py",
   "mimetype": "text/x-python",
   "name": "python",
   "nbconvert_exporter": "python",
   "pygments_lexer": "ipython3",
   "version": "3.10.0"
  }
 },
 "nbformat": 4,
 "nbformat_minor": 2
}
